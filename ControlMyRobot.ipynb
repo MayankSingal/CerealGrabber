{
 "cells": [
  {
   "cell_type": "markdown",
   "metadata": {},
   "source": [
    "# Control My Robot |:-|"
   ]
  },
  {
   "cell_type": "code",
   "execution_count": 3,
   "metadata": {},
   "outputs": [],
   "source": [
    "import numpy as np\n",
    "import scipy as sp\n",
    "from quaternion import from_rotation_matrix, quaternion\n",
    "\n",
    "from scipy.spatial.transform import Rotation as R\n",
    "\n",
    "from rlbench.environment import Environment\n",
    "from rlbench.action_modes import ArmActionMode, ActionMode\n",
    "from rlbench.observation_config import ObservationConfig, CameraConfig\n",
    "from rlbench.tasks import PutGroceriesInCupboard\n",
    "from pyrep.const import ConfigurationPathAlgorithms as Algos\n",
    "import pprint\n",
    "import time\n",
    "\n",
    "import copy\n",
    "\n",
    "from utils import RandomAgent, NoisyObjectPoseSensor, VisionObjectPoseSensor, RobotController"
   ]
  },
  {
   "cell_type": "markdown",
   "metadata": {},
   "source": [
    "# Start the simulation, Initialize the environment"
   ]
  },
  {
   "cell_type": "code",
   "execution_count": null,
   "metadata": {},
   "outputs": [],
   "source": [
    "### Set Action Mode\n",
    "action_mode = ActionMode(ArmActionMode.ABS_JOINT_POSITION) # See rlbench/action_modes.py for other action modes\n",
    "\n",
    "### Initialize Environment with Action Mode and desired observations\n",
    "env = Environment(action_mode, '', ObservationConfig(), False)\n",
    "\n",
    "### Load task into the environment\n",
    "task = env.get_task(PutGroceriesInCupboard)\n",
    "\n",
    "### Create Agent: TODO\n",
    "agent = RandomAgent()\n",
    "\n",
    "### Object Pose Sensor\n",
    "obj_pose_sensor = NoisyObjectPoseSensor(env)\n",
    "\n",
    "### Robot Controller Object\n",
    "robot_controller = RobotController(env, task)"
   ]
  },
  {
   "cell_type": "markdown",
   "metadata": {},
   "source": [
    "# Keep frequently used variables here"
   ]
  },
  {
   "cell_type": "code",
   "execution_count": null,
   "metadata": {},
   "outputs": [],
   "source": [
    "### Useful variables\n",
    "gripper_vertical_orientation = np.array([3.13767052e+00, 1.88300957e-03, 9.35417891e-01])\n",
    "reset_position = env._robot.arm.get_tip().get_position()\n",
    "reset_orientation = env._robot.arm.get_tip().get_orientation()\n",
    "\n",
    "mustard_orientation = [ 7.07037210e-01,  7.07173109e-01, -6.37740828e-04, -2.06269184e-03]\n",
    "mustard_position = [ 0.31035879, -0.12106754,  0.90185165]\n",
    "\n"
   ]
  },
  {
   "cell_type": "code",
   "execution_count": null,
   "metadata": {},
   "outputs": [],
   "source": [
    "descriptions, obs = task.reset()\n"
   ]
  },
  {
   "cell_type": "code",
   "execution_count": null,
   "metadata": {},
   "outputs": [],
   "source": [
    "crackers_position, crackers_orientation, crackers_obj = robot_controller.get_pose_and_object_from_simulation(\"spam_grasp_point\")\n",
    "crackers_rot = R.from_euler('xyz', crackers_orientation)"
   ]
  },
  {
   "cell_type": "code",
   "execution_count": null,
   "metadata": {},
   "outputs": [],
   "source": []
  },
  {
   "cell_type": "code",
   "execution_count": null,
   "metadata": {},
   "outputs": [],
   "source": [
    "## Motion 1\n",
    "## (1) Sense mustard_grasp_point location. (2) Move gripper to a point 0.1m over mustard_grasp_point, while making it remain vertical.\n",
    "\n",
    "#(1)\n",
    "next_position, next_orientation, spam_obj = robot_controller.get_pose_and_object_from_simulation(\"spam_grasp_point\")\n",
    "\n",
    "#(2)\n",
    "next_position[2] += 0.1\n",
    "next_orientation = gripper_vertical_orientation\n",
    "motion_1_plan = robot_controller.move(next_position, next_orientation)"
   ]
  },
  {
   "cell_type": "code",
   "execution_count": null,
   "metadata": {},
   "outputs": [],
   "source": [
    "_ = robot_controller.translate(z=-0.1, ignore_collisions=False)"
   ]
  },
  {
   "cell_type": "code",
   "execution_count": null,
   "metadata": {},
   "outputs": [],
   "source": [
    "_ = robot_controller.actuate_gripper(0)"
   ]
  },
  {
   "cell_type": "code",
   "execution_count": null,
   "metadata": {
    "scrolled": true
   },
   "outputs": [],
   "source": [
    "_ = robot_controller.translate(z=0.02, ignore_collisions=True)"
   ]
  },
  {
   "cell_type": "code",
   "execution_count": null,
   "metadata": {},
   "outputs": [],
   "source": [
    "_ =robot_controller.translate(x=0.1, y=0.03, ignore_collisions=False)"
   ]
  },
  {
   "cell_type": "code",
   "execution_count": null,
   "metadata": {},
   "outputs": [],
   "source": [
    "_ =robot_controller.translate(y=-0.1, ignore_collisions=False)"
   ]
  },
  {
   "cell_type": "code",
   "execution_count": null,
   "metadata": {},
   "outputs": [],
   "source": [
    "_ =robot_controller.rotate_to([gripper_vertical_orientation[0], gripper_vertical_orientation[1], 2.87], gripper_state=1, ignore_collisions=False)"
   ]
  },
  {
   "cell_type": "markdown",
   "metadata": {},
   "source": [
    "# Rotation Tools\n"
   ]
  },
  {
   "cell_type": "code",
   "execution_count": null,
   "metadata": {},
   "outputs": [],
   "source": [
    "next_position, next_orientation, spam_obj = robot_controller.get_pose_and_object_from_simulation(\"spam_grasp_point\")\n",
    "# next_position[2] += 0.1\n",
    "# next_orientation = gripper_vertical_orientation\n",
    "# motion_1_plan = robot_controller.move(next_position, next_orientation)"
   ]
  },
  {
   "cell_type": "code",
   "execution_count": null,
   "metadata": {},
   "outputs": [],
   "source": [
    "spam_obj = [obj for obj in task._task.get_graspable_objects() if obj.get_name() == 'spam'][0]\n",
    "mustard_obj = [obj for obj in task._task.get_graspable_objects() if obj.get_name() == 'mustard'][0]"
   ]
  },
  {
   "cell_type": "code",
   "execution_count": null,
   "metadata": {},
   "outputs": [],
   "source": [
    "## Motion 1\n",
    "## (1) Sense mustard_grasp_point location. (2) Move gripper to a point 0.1m over mustard_grasp_point, while making it remain vertical.\n",
    "\n",
    "#(1)\n",
    "next_position, next_orientation, spam_obj = robot_controller.get_pose_and_object_from_simulation(\"waypoint3\")\n",
    "\n",
    "#(2)\n",
    "# next_position[2] += 0.1\n",
    "# next_orientation = gripper_vertical_orientation\n",
    "motion_1_plan = robot_controller.move(next_position, next_orientation)"
   ]
  },
  {
   "cell_type": "code",
   "execution_count": null,
   "metadata": {},
   "outputs": [],
   "source": [
    "spam_rot = R.from_euler('xyz', spam_obj.get_orientation())\n",
    "desired_spam_rot = R.from_euler('xyz', [0,0,0])#crackers_rot\n",
    "req_rotation = desired_spam_rot.inv() * spam_rot\n",
    "# print(spam_rot.as_euler('xyz'), req_rotation.as_euler('xyz'))\n",
    "\n",
    "end_effector_orintation = R.from_euler('xyz', env._robot.arm.get_tip().get_orientation())\n",
    "new_orientation =  req_rotation * end_effector_orintation\n",
    "new_orientation = list(new_orientation.as_euler('xyz'))\n",
    "# print(end_effector_orintation.as_euler('xyz'), new_orientation.as_euler('xyz'))\n",
    "\n",
    "robot_controller.rotate_to(new_orientation, ignore_collisions=False)\n"
   ]
  },
  {
   "cell_type": "code",
   "execution_count": null,
   "metadata": {},
   "outputs": [],
   "source": [
    "robot_controller.rotate_to([0,0,0], ignore_collisions=False)\n"
   ]
  },
  {
   "cell_type": "code",
   "execution_count": null,
   "metadata": {},
   "outputs": [],
   "source": [
    "robot_controller.move(reset_position, spam_obj.get_orientation())"
   ]
  },
  {
   "cell_type": "code",
   "execution_count": null,
   "metadata": {},
   "outputs": [],
   "source": [
    "env._robot.arm._ik_tip = spam_obj"
   ]
  },
  {
   "cell_type": "code",
   "execution_count": null,
   "metadata": {},
   "outputs": [],
   "source": [
    "spam_obj.get_orientation()"
   ]
  },
  {
   "cell_type": "code",
   "execution_count": null,
   "metadata": {},
   "outputs": [],
   "source": [
    "env._robot.arm.get_tip().get_orientation(), env._robot.arm.get_tip().get_position()"
   ]
  },
  {
   "cell_type": "code",
   "execution_count": null,
   "metadata": {},
   "outputs": [],
   "source": [
    "env._robot.arm._ik_tip = spam_obj"
   ]
  },
  {
   "cell_type": "code",
   "execution_count": null,
   "metadata": {},
   "outputs": [],
   "source": [
    "next_position, next_orientation, _ = robot_controller.get_pose_and_object_from_simulation(\"waypoint3\")\n",
    "\n",
    "#(2)\n",
    "# next_position[2] += 0.1\n",
    "# next_orientation = gripper_vertical_orientation\n",
    "motion_1_plan = robot_controller.move(next_position, next_orientation)"
   ]
  },
  {
   "cell_type": "code",
   "execution_count": null,
   "metadata": {},
   "outputs": [],
   "source": []
  },
  {
   "cell_type": "code",
   "execution_count": null,
   "metadata": {},
   "outputs": [],
   "source": [
    "spam_obj = [obj for obj in task._task.get_graspable_objects() if obj.get_name() == 'spam'][0]\n",
    "env._robot.arm._ik_target = spam_obj\n",
    "next_position, next_orientation, _ = robot_controller.get_pose_and_object_from_simulation(\"waypoint3\")\n",
    "\n",
    "#(2)\n",
    "# next_position[2] += 0.1\n",
    "# next_orientation = gripper_vertical_orientation\n",
    "motion_1_plan = robot_controller.move(next_position, next_orientation)"
   ]
  }
 ],
 "metadata": {
  "kernelspec": {
   "display_name": "Python 3",
   "language": "python",
   "name": "python3"
  },
  "language_info": {
   "codemirror_mode": {
    "name": "ipython",
    "version": 3
   },
   "file_extension": ".py",
   "mimetype": "text/x-python",
   "name": "python",
   "nbconvert_exporter": "python",
   "pygments_lexer": "ipython3",
   "version": "3.6.9"
  }
 },
 "nbformat": 4,
 "nbformat_minor": 4
}
